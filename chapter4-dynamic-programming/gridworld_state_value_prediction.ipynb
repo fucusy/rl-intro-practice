{
 "cells": [
  {
   "cell_type": "markdown",
   "metadata": {},
   "source": [
    "# import necessary library"
   ]
  },
  {
   "cell_type": "code",
   "execution_count": 1,
   "metadata": {},
   "outputs": [],
   "source": [
    "%matplotlib inline\n",
    "import numpy as np\n",
    "import random\n",
    "import matplotlib\n",
    "matplotlib.use('Agg')\n",
    "import matplotlib.pyplot as plt\n",
    "import seaborn\n",
    "random.seed(2019)"
   ]
  },
  {
   "cell_type": "code",
   "execution_count": 107,
   "metadata": {},
   "outputs": [
    {
     "data": {
      "text/plain": [
       "Text(33.0, 0.5, 'y label')"
      ]
     },
     "execution_count": 107,
     "metadata": {},
     "output_type": "execute_result"
    },
    {
     "data": {
      "image/png": "[encoded data removed]",
      "text/plain": [
       "<Figure size 432x288 with 2 Axes>"
      ]
     },
     "metadata": {
      "needs_background": "light"
     },
     "output_type": "display_data"
    }
   ],
   "source": [
    "data = np.zeros((5, 5))\n",
    "for i in range(5):\n",
    "    for j in range(5):\n",
    "        data[i][j] = 2*i + j\n",
    "fig = seaborn.heatmap(data)\n",
    "fig.set_xlabel(\"x label\")\n",
    "fig.set_ylabel(\"y label\")"
   ]
  },
  {
   "cell_type": "code",
   "execution_count": 151,
   "metadata": {},
   "outputs": [],
   "source": [
    "class State:\n",
    "    def __init__(self, row, col):        \n",
    "        self.row = row\n",
    "        self.col = col\n",
    "        \n",
    "    def __repr__(self):\n",
    "        return \"row: %02d, col:%02d\" %\\\n",
    "            (self.row, self.col)\n",
    "\n",
    "    def copy(self):\n",
    "        return State(self.row, self.col)\n",
    "    \n",
    "    \n",
    "    @staticmethod\n",
    "    def all_states():\n",
    "        for row in range(5):\n",
    "            for col in range(5):            \n",
    "                s = State(row, col)\n",
    "                yield s    \n",
    "    \n",
    "    @staticmethod\n",
    "    def random():\n",
    "        row = random.randint(0, 4)\n",
    "        col = random.randint(0, 4)\n",
    "        return State(row, col)\n",
    "        \n",
    "class Action:\n",
    "    # action = one in [\"up\", \"left\", \"right\", \"down\"]\n",
    "    action = \"up\"\n",
    "    def __init__(self, action):\n",
    "        self.action = action\n",
    "\n",
    "    def __repr__(self):\n",
    "        return self.action\n",
    "    \n",
    "    def isLeft(self):\n",
    "        return self.action == \"left\"\n",
    "    \n",
    "    def isRight(self):\n",
    "        return self.action == \"right\"\n",
    "    \n",
    "    def isDown(self):\n",
    "        return self.action == \"down\"\n",
    "    \n",
    "    def isUp(self):\n",
    "        return self.action == \"up\"\n",
    "    \n",
    "    def copy(self):\n",
    "        return Action(self.action)\n",
    "            \n",
    "    @staticmethod\n",
    "    def all_actions():\n",
    "        return [Action(\"left\"), Action(\"right\"), Action(\"up\"), Action(\"down\")]\n",
    "    \n",
    "    @staticmethod\n",
    "    def random():\n",
    "        r = random.random()\n",
    "        if r < 0.25:\n",
    "            return Action(\"up\")\n",
    "        elif r < 0.5:\n",
    "            return Action(\"down\")\n",
    "        elif r < 0.75:\n",
    "            return Action(\"left\")\n",
    "        else:\n",
    "            return Action(\"right\")\n",
    "        \n",
    "    @staticmethod\n",
    "    def parse(a_str):\n",
    "        \"\"\"\n",
    "        a_str is a str representation of Action\n",
    "        \"\"\"\n",
    "        return Action(a_str)\n",
    "    \n",
    "    \n",
    "def simulate(s, a):\n",
    "    \"\"\"\n",
    "    s is a instance of State\n",
    "    a is a instance of Action\n",
    "    \n",
    "    simulate the environment\n",
    "    return a new state and reward\n",
    "    \"\"\"\n",
    "    r = 0\n",
    "    if a.isLeft():\n",
    "        s.col -= 1\n",
    "    elif a.isRight():\n",
    "        s.col += 1\n",
    "    elif a.isUp():\n",
    "        s.row -= 1\n",
    "    elif a.isDown():\n",
    "        s.row += 1\n",
    "    else:\n",
    "        raise Exception('invalid action')\n",
    "    \n",
    "    if s.col < 0 or s.col >= 5 or s.row < 0 or s.row >= 5:\n",
    "        r = -1\n",
    "        s.col = max(min(s.col, 4), 0)\n",
    "        s.row = max(min(s.row, 4), 0)\n",
    "    else:\n",
    "        if s.row == 0 and s.col == 1:\n",
    "            r = 10\n",
    "            s.row = 4\n",
    "        elif s.row == 0 and s.col == 3:\n",
    "            r = 5\n",
    "            s.row = 4\n",
    "    return s, r"
   ]
  },
  {
   "cell_type": "markdown",
   "metadata": {},
   "source": [
    "# evalution of policy\n",
    "* random"
   ]
  },
  {
   "cell_type": "code",
   "execution_count": 193,
   "metadata": {},
   "outputs": [],
   "source": [
    "def random_walk(s):\n",
    "    \"\"\"\n",
    "    s: an instance of State\n",
    "    \"\"\"\n",
    "    actions = Action.all_actions()\n",
    "    return {actions[0] : 0.25, actions[1]: 0.25, actions[2]: 0.25, actions[3]: 0.25}\n",
    "    \n",
    "def prediction(times, policy):\n",
    "    value = {}\n",
    "    for s in State.all_states(): \n",
    "        value[str(s)] = 0.0\n",
    "    for t in range(times):\n",
    "        for s in State.all_states():          \n",
    "            actions_prob = policy(s)\n",
    "            new_v = 0\n",
    "            for a, prob in actions_prob.items():               \n",
    "                new_s, r = simulate(State.copy(s), a)\n",
    "                new_v += prob * (r + 0.9 * value[str(new_s)])\n",
    "            #print(\">>> %s\" % s)\n",
    "            value[str(s)] = new_v\n",
    "    return value\n",
    "def print_value(v):\n",
    "    for s in State.all_states():\n",
    "        k = str(s)\n",
    "        print(s, v.get(k, 0))"
   ]
  },
  {
   "cell_type": "code",
   "execution_count": 216,
   "metadata": {},
   "outputs": [],
   "source": [
    "def print_policy(p):\n",
    "    for s in State.all_states():\n",
    "        k = str(s)\n",
    "        print(s, p(k))"
   ]
  },
  {
   "cell_type": "code",
   "execution_count": 195,
   "metadata": {},
   "outputs": [],
   "source": [
    "def plot_value(v):\n",
    "    values = np.zeros((5, 5))\n",
    "    for s in State.all_states():                \n",
    "        k = str(s)\n",
    "        values[s.row][s.col] = v.get(k, 0)\n",
    "    ylabels = range(0, 5)\n",
    "    xlables = range(0, 5)\n",
    "    _, axe = plt.subplots(1, 1, figsize=(5, 4))\n",
    "    \n",
    "    title = \"State --> Value\"\n",
    "    \n",
    "    fig = seaborn.heatmap(values, cmap=\"YlGnBu\", ax=axe, xticklabels=xlables, yticklabels=ylabels)\n",
    "    fig.set_title(title)\n",
    "    fig.set_xlabel(\"row\")\n",
    "    fig.set_ylabel(\"col\")"
   ]
  },
  {
   "cell_type": "code",
   "execution_count": 196,
   "metadata": {},
   "outputs": [
    {
     "name": "stdout",
     "output_type": "stream",
     "text": [
      "row: 00, col:00 3.8254906075405897\n",
      "row: 00, col:01 3.0042356305379787\n",
      "row: 00, col:02 4.346289229299418\n",
      "row: 00, col:03 1.623411284014073\n",
      "row: 00, col:04 0.8474073883160689\n",
      "row: 01, col:00 1.7925501600972118\n",
      "row: 01, col:01 3.2872540016796963\n",
      "row: 01, col:02 2.2028182588452547\n",
      "row: 01, col:03 1.5091644717663197\n",
      "row: 01, col:04 0.195689187699652\n",
      "row: 02, col:00 0.17270594222566507\n",
      "row: 02, col:01 0.8337780412986238\n",
      "row: 02, col:02 0.6475956699001404\n",
      "row: 02, col:03 0.21091688867688735\n",
      "row: 02, col:04 -0.5714202135613652\n",
      "row: 03, col:00 -0.9203410670629895\n",
      "row: 03, col:01 -0.40187543025606354\n",
      "row: 03, col:02 -0.369310211486809\n",
      "row: 03, col:03 -0.6479315339855956\n",
      "row: 03, col:04 -1.2637201453101305\n",
      "row: 04, col:00 -1.8297830762976761\n",
      "row: 04, col:01 -1.330239786109108\n",
      "row: 04, col:02 -1.2391674233776322\n",
      "row: 04, col:03 -1.457582238482595\n",
      "row: 04, col:04 -2.022350975187933\n"
     ]
    }
   ],
   "source": [
    "v = prediction(1000, random_walk)\n",
    "print_value(v)"
   ]
  },
  {
   "cell_type": "code",
   "execution_count": 197,
   "metadata": {},
   "outputs": [
    {
     "name": "stdout",
     "output_type": "stream",
     "text": [
      "row: 00, col:00 3.8254906075405897\n",
      "row: 00, col:01 3.0042356305379787\n",
      "row: 00, col:02 4.346289229299418\n",
      "row: 00, col:03 1.623411284014073\n",
      "row: 00, col:04 0.8474073883160689\n",
      "row: 01, col:00 1.7925501600972118\n",
      "row: 01, col:01 3.2872540016796963\n",
      "row: 01, col:02 2.2028182588452547\n",
      "row: 01, col:03 1.5091644717663197\n",
      "row: 01, col:04 0.195689187699652\n",
      "row: 02, col:00 0.17270594222566507\n",
      "row: 02, col:01 0.8337780412986238\n",
      "row: 02, col:02 0.6475956699001404\n",
      "row: 02, col:03 0.21091688867688735\n",
      "row: 02, col:04 -0.5714202135613652\n",
      "row: 03, col:00 -0.9203410670629895\n",
      "row: 03, col:01 -0.40187543025606354\n",
      "row: 03, col:02 -0.369310211486809\n",
      "row: 03, col:03 -0.6479315339855956\n",
      "row: 03, col:04 -1.2637201453101305\n",
      "row: 04, col:00 -1.8297830762976761\n",
      "row: 04, col:01 -1.330239786109108\n",
      "row: 04, col:02 -1.2391674233776322\n",
      "row: 04, col:03 -1.457582238482595\n",
      "row: 04, col:04 -2.022350975187933\n"
     ]
    }
   ],
   "source": [
    "v = prediction(10000, random_walk)\n",
    "print_value(v)"
   ]
  },
  {
   "cell_type": "code",
   "execution_count": 198,
   "metadata": {},
   "outputs": [
    {
     "data": {
      "image/png": "[encoded data removed]",
      "text/plain": [
       "<Figure size 360x288 with 2 Axes>"
      ]
     },
     "metadata": {
      "needs_background": "light"
     },
     "output_type": "display_data"
    }
   ],
   "source": [
    "v = prediction(10000, random_walk)\n",
    "plot_value(v)"
   ]
  },
  {
   "cell_type": "markdown",
   "metadata": {},
   "source": [
    "# find the optimal policy\n",
    "* Greedy"
   ]
  },
  {
   "cell_type": "code",
   "execution_count": 234,
   "metadata": {},
   "outputs": [],
   "source": [
    "def greedy(value):\n",
    "    \"\"\"\n",
    "    @param: value dict of state -> v\n",
    "    return the optimal policy by the value\n",
    "    \"\"\"\n",
    "    actions = {}\n",
    "    for s in State.all_states():\n",
    "        max_action = None\n",
    "        max_value = None\n",
    "        \n",
    "        for a in Action.all_actions():\n",
    "            new_s, r = simulate(State.copy(s), a)\n",
    "            v = r + value[str(new_s)]\n",
    "            if max_action is None:\n",
    "                max_action = a\n",
    "                max_value = v\n",
    "            if v > max_value:\n",
    "                max_action = a\n",
    "                max_value = v\n",
    "        max_value_count = 0\n",
    "        \n",
    "        for a in Action.all_actions():\n",
    "            new_s, r = simulate(State.copy(s), a)\n",
    "            v = r + value[str(new_s)]\n",
    "            if v == max_value:\n",
    "                max_value_count += 1\n",
    "        \n",
    "        for a in Action.all_actions():\n",
    "            new_s, r = simulate(State.copy(s), a)\n",
    "            v = r + value[str(new_s)]\n",
    "            if v == max_value:\n",
    "                if str(s) not in actions:\n",
    "                    actions[str(s)] = {}\n",
    "                actions[str(s)][a] = 1.0 / max_value_count\n",
    "    def policy(s):\n",
    "        return actions[str(s)]\n",
    "    return policy\n"
   ]
  },
  {
   "cell_type": "code",
   "execution_count": 235,
   "metadata": {},
   "outputs": [
    {
     "name": "stdout",
     "output_type": "stream",
     "text": [
      "row: 00, col:00 {left: 0.25, right: 0.25, up: 0.25, down: 0.25}\n",
      "row: 00, col:01 {left: 0.25, right: 0.25, up: 0.25, down: 0.25}\n",
      "row: 00, col:02 {left: 0.25, right: 0.25, up: 0.25, down: 0.25}\n",
      "row: 00, col:03 {left: 0.25, right: 0.25, up: 0.25, down: 0.25}\n",
      "row: 00, col:04 {left: 0.25, right: 0.25, up: 0.25, down: 0.25}\n",
      "row: 01, col:00 {left: 0.25, right: 0.25, up: 0.25, down: 0.25}\n",
      "row: 01, col:01 {left: 0.25, right: 0.25, up: 0.25, down: 0.25}\n",
      "row: 01, col:02 {left: 0.25, right: 0.25, up: 0.25, down: 0.25}\n",
      "row: 01, col:03 {left: 0.25, right: 0.25, up: 0.25, down: 0.25}\n",
      "row: 01, col:04 {left: 0.25, right: 0.25, up: 0.25, down: 0.25}\n",
      "row: 02, col:00 {left: 0.25, right: 0.25, up: 0.25, down: 0.25}\n",
      "row: 02, col:01 {left: 0.25, right: 0.25, up: 0.25, down: 0.25}\n",
      "row: 02, col:02 {left: 0.25, right: 0.25, up: 0.25, down: 0.25}\n",
      "row: 02, col:03 {left: 0.25, right: 0.25, up: 0.25, down: 0.25}\n",
      "row: 02, col:04 {left: 0.25, right: 0.25, up: 0.25, down: 0.25}\n",
      "row: 03, col:00 {left: 0.25, right: 0.25, up: 0.25, down: 0.25}\n",
      "row: 03, col:01 {left: 0.25, right: 0.25, up: 0.25, down: 0.25}\n",
      "row: 03, col:02 {left: 0.25, right: 0.25, up: 0.25, down: 0.25}\n",
      "row: 03, col:03 {left: 0.25, right: 0.25, up: 0.25, down: 0.25}\n",
      "row: 03, col:04 {left: 0.25, right: 0.25, up: 0.25, down: 0.25}\n",
      "row: 04, col:00 {left: 0.25, right: 0.25, up: 0.25, down: 0.25}\n",
      "row: 04, col:01 {left: 0.25, right: 0.25, up: 0.25, down: 0.25}\n",
      "row: 04, col:02 {left: 0.25, right: 0.25, up: 0.25, down: 0.25}\n",
      "row: 04, col:03 {left: 0.25, right: 0.25, up: 0.25, down: 0.25}\n",
      "row: 04, col:04 {left: 0.25, right: 0.25, up: 0.25, down: 0.25}\n"
     ]
    }
   ],
   "source": [
    "print_policy(random_walk)"
   ]
  },
  {
   "cell_type": "code",
   "execution_count": 236,
   "metadata": {},
   "outputs": [
    {
     "data": {
      "image/png": "[encoded data removed]",
      "text/plain": [
       "<Figure size 360x288 with 2 Axes>"
      ]
     },
     "metadata": {
      "needs_background": "light"
     },
     "output_type": "display_data"
    }
   ],
   "source": [
    "random_v = prediction(1000, random_walk)\n",
    "plot_value(random_v)"
   ]
  },
  {
   "cell_type": "code",
   "execution_count": 237,
   "metadata": {},
   "outputs": [
    {
     "data": {
      "image/png": "[encoded data removed]",
      "text/plain": [
       "<Figure size 360x288 with 2 Axes>"
      ]
     },
     "metadata": {
      "needs_background": "light"
     },
     "output_type": "display_data"
    }
   ],
   "source": [
    "g_policy = greedy(random_v)\n",
    "g_v = prediction(1000, g_policy)\n",
    "plot_value(g_v)"
   ]
  },
  {
   "cell_type": "code",
   "execution_count": 238,
   "metadata": {},
   "outputs": [
    {
     "name": "stdout",
     "output_type": "stream",
     "text": [
      "row: 00, col:00 {right: 1.0}\n",
      "row: 00, col:01 {right: 1.0}\n",
      "row: 00, col:02 {left: 1.0}\n",
      "row: 00, col:03 {left: 1.0}\n",
      "row: 00, col:04 {left: 1.0}\n",
      "row: 01, col:00 {up: 1.0}\n",
      "row: 01, col:01 {up: 1.0}\n",
      "row: 01, col:02 {up: 1.0}\n",
      "row: 01, col:03 {up: 1.0}\n",
      "row: 01, col:04 {left: 1.0}\n",
      "row: 02, col:00 {up: 1.0}\n",
      "row: 02, col:01 {up: 1.0}\n",
      "row: 02, col:02 {up: 1.0}\n",
      "row: 02, col:03 {up: 1.0}\n",
      "row: 02, col:04 {left: 1.0}\n",
      "row: 03, col:00 {up: 1.0}\n",
      "row: 03, col:01 {up: 1.0}\n",
      "row: 03, col:02 {up: 1.0}\n",
      "row: 03, col:03 {up: 1.0}\n",
      "row: 03, col:04 {up: 1.0}\n",
      "row: 04, col:00 {up: 1.0}\n",
      "row: 04, col:01 {up: 1.0}\n",
      "row: 04, col:02 {up: 1.0}\n",
      "row: 04, col:03 {up: 1.0}\n",
      "row: 04, col:04 {up: 1.0}\n"
     ]
    }
   ],
   "source": [
    "print_policy(g_policy)"
   ]
  },
  {
   "cell_type": "code",
   "execution_count": 239,
   "metadata": {},
   "outputs": [
    {
     "data": {
      "image/png": "[encoded data removed]",
      "text/plain": [
       "<Figure size 360x288 with 2 Axes>"
      ]
     },
     "metadata": {
      "needs_background": "light"
     },
     "output_type": "display_data"
    }
   ],
   "source": [
    "g_policy_1 = greedy(g_v)\n",
    "g_v_1 = prediction(1000, g_policy_1)\n",
    "plot_value(g_v_1)"
   ]
  },
  {
   "cell_type": "code",
   "execution_count": 240,
   "metadata": {},
   "outputs": [
    {
     "name": "stdout",
     "output_type": "stream",
     "text": [
      "row: 00, col:00 {right: 1.0}\n",
      "row: 00, col:01 {left: 0.3333333333333333, right: 0.3333333333333333, down: 0.3333333333333333}\n",
      "row: 00, col:02 {left: 1.0}\n",
      "row: 00, col:03 {left: 1.0}\n",
      "row: 00, col:04 {left: 1.0}\n",
      "row: 01, col:00 {right: 0.5, up: 0.5}\n",
      "row: 01, col:01 {up: 1.0}\n",
      "row: 01, col:02 {left: 0.5, up: 0.5}\n",
      "row: 01, col:03 {left: 1.0}\n",
      "row: 01, col:04 {left: 0.5, up: 0.5}\n",
      "row: 02, col:00 {right: 0.5, up: 0.5}\n",
      "row: 02, col:01 {up: 1.0}\n",
      "row: 02, col:02 {left: 0.5, up: 0.5}\n",
      "row: 02, col:03 {left: 1.0}\n",
      "row: 02, col:04 {left: 0.5, up: 0.5}\n",
      "row: 03, col:00 {right: 0.5, up: 0.5}\n",
      "row: 03, col:01 {up: 1.0}\n",
      "row: 03, col:02 {left: 0.5, up: 0.5}\n",
      "row: 03, col:03 {left: 1.0}\n",
      "row: 03, col:04 {left: 0.5, up: 0.5}\n",
      "row: 04, col:00 {right: 0.5, up: 0.5}\n",
      "row: 04, col:01 {up: 1.0}\n",
      "row: 04, col:02 {left: 0.5, up: 0.5}\n",
      "row: 04, col:03 {left: 1.0}\n",
      "row: 04, col:04 {left: 0.5, up: 0.5}\n"
     ]
    }
   ],
   "source": [
    "print_policy(g_policy_1)"
   ]
  },
  {
   "cell_type": "code",
   "execution_count": null,
   "metadata": {},
   "outputs": [],
   "source": []
  }
 ],
 "metadata": {
  "kernelspec": {
   "display_name": "Python 3",
   "language": "python",
   "name": "python3"
  },
  "language_info": {
   "codemirror_mode": {
    "name": "ipython",
    "version": 3
   },
   "file_extension": ".py",
   "mimetype": "text/x-python",
   "name": "python",
   "nbconvert_exporter": "python",
   "pygments_lexer": "ipython3",
   "version": "3.7.1"
  }
 },
 "nbformat": 4,
 "nbformat_minor": 2
}
